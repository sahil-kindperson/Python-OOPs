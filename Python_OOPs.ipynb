{
  "nbformat": 4,
  "nbformat_minor": 0,
  "metadata": {
    "colab": {
      "provenance": []
    },
    "kernelspec": {
      "name": "python3",
      "display_name": "Python 3"
    },
    "language_info": {
      "name": "python"
    }
  },
  "cells": [
    {
      "cell_type": "code",
      "execution_count": null,
      "metadata": {
        "id": "QEoM1yCOXDCV"
      },
      "outputs": [],
      "source": [
        "\n",
        "\n",
        "##Python OOPs Questions\n",
        "\n"
      ]
    },
    {
      "cell_type": "code",
      "source": [
        "#1. What is Object-Oriented Programming (OOP)?"
      ],
      "metadata": {
        "id": "RaHiAcaVXUCn"
      },
      "execution_count": null,
      "outputs": []
    },
    {
      "cell_type": "markdown",
      "source": [
        "Object-Oriented Programming (OOP) is a programming paradigm that uses classes and objects to structure code. It emphasizes modular design, code reusability, and flexibility by grouping data (attributes) and behavior (methods) into objects.\n",
        "\n"
      ],
      "metadata": {
        "id": "DUo2ZKgLXeli"
      }
    },
    {
      "cell_type": "code",
      "source": [
        "#2. What is a class in OOP?"
      ],
      "metadata": {
        "id": "5q00QusZX0ay"
      },
      "execution_count": null,
      "outputs": []
    },
    {
      "cell_type": "markdown",
      "source": [
        "In Object-Oriented Programming (OOP), a class is a blueprint or template for creating objects. It defines the structure and behavior that its objects will have. A class groups related data (attributes) and functions (methods) into one cohesive unit."
      ],
      "metadata": {
        "id": "ywlsCxWSX63C"
      }
    },
    {
      "cell_type": "code",
      "source": [
        "#3. What is an object in OOP?"
      ],
      "metadata": {
        "id": "0f6hlBt-YGIy"
      },
      "execution_count": null,
      "outputs": []
    },
    {
      "cell_type": "markdown",
      "source": [
        "An object in Object-Oriented Programming (OOP) is an instance of a class. While a class defines the blueprint or template, an object is the actual entity created based on that blueprint. Each object can have its own unique data (state) and can perform actions (methods) defined by the class."
      ],
      "metadata": {
        "id": "y1N_d6eAYntS"
      }
    },
    {
      "cell_type": "code",
      "source": [
        "#4. What is the difference between abstraction and encapsulation"
      ],
      "metadata": {
        "id": "WVrj3RIYYoWh"
      },
      "execution_count": null,
      "outputs": []
    },
    {
      "cell_type": "markdown",
      "source": [
        "1. Abstraction:\n",
        "\n",
        "Abstraction is the process of hiding complex implementation details and showing only the essential features to the user.\n",
        "\n",
        "2. Encapsulation:\n",
        "\n",
        "Encapsulation is the process of hiding the internal state of an object and only allowing controlled access to it."
      ],
      "metadata": {
        "id": "YjESk-WoZAYA"
      }
    },
    {
      "cell_type": "code",
      "source": [
        "#5. What are dunder methods in Python?"
      ],
      "metadata": {
        "id": "DlLiSk2sZRYj"
      },
      "execution_count": null,
      "outputs": []
    },
    {
      "cell_type": "markdown",
      "source": [
        "1. Always start and end with double underscores (e.g., __init__, __str__).\n",
        "2. Designed to integrate objects with Python’s built-in features.\n",
        "3. Commonly used for operator overloading, object lifecycle management, and custom behaviors.\n",
        "\n"
      ],
      "metadata": {
        "id": "mbDRBQfTZm_6"
      }
    },
    {
      "cell_type": "code",
      "source": [
        "#6. Explain the concept of inheritance in OOP."
      ],
      "metadata": {
        "id": "d7u2yI0iZwoh"
      },
      "execution_count": null,
      "outputs": []
    },
    {
      "cell_type": "markdown",
      "source": [
        "Inheritance in Object-Oriented Programming (OOP) is a mechanism that allows one class (called the child class) to inherit the attributes and methods of another class (called the parent class). It promotes code reusability, extensibility, and hierarchical structure in programs."
      ],
      "metadata": {
        "id": "4UrSsnPzaOuo"
      }
    },
    {
      "cell_type": "code",
      "source": [
        "#7.  What is polymorphism in OOP?"
      ],
      "metadata": {
        "id": "qnH2kQSJaPmM"
      },
      "execution_count": null,
      "outputs": []
    },
    {
      "cell_type": "markdown",
      "source": [
        "Polymorphism in Object-Oriented Programming (OOP) is the ability of objects from different classes to respond to the same method in their own unique ways. It allows one interface (method name) to be used for different data types or class structures, enhancing flexibility and code reusability."
      ],
      "metadata": {
        "id": "qk8aqzZbaiNx"
      }
    },
    {
      "cell_type": "code",
      "source": [
        "#8. How is encapsulation achieved in Python?"
      ],
      "metadata": {
        "id": "0bPpt_Zjaizz"
      },
      "execution_count": null,
      "outputs": []
    },
    {
      "cell_type": "markdown",
      "source": [
        "ncapsulation in Python is achieved through the use of private variables and methods, combined with getter and setter methods to control access and modification of data."
      ],
      "metadata": {
        "id": "JLQEhvfvd9Ed"
      }
    },
    {
      "cell_type": "code",
      "source": [
        "#9. What is a constructor in Python?"
      ],
      "metadata": {
        "id": "kMDAk1cqeIBy"
      },
      "execution_count": null,
      "outputs": []
    },
    {
      "cell_type": "markdown",
      "source": [
        "A constructor in Python is a special method used to initialize an object’s state when it is created. It is defined using the ______init__() method inside a class. The constructor is automatically called when a new object of the class is instantiated.\n",
        "\n"
      ],
      "metadata": {
        "id": "8LjPt1SIeX75"
      }
    },
    {
      "cell_type": "code",
      "source": [
        "#10. What are class and static methods in Python?"
      ],
      "metadata": {
        "id": "Q_RX2OC5el3W"
      },
      "execution_count": null,
      "outputs": []
    },
    {
      "cell_type": "markdown",
      "source": [
        "A class method is bound to the class rather than an instance of the class. It takes cls (class reference) as its first parameter instead of self.\n",
        "\n",
        "A static method is bound to the class, but unlike class methods, it does not require cls or self as its first parameter."
      ],
      "metadata": {
        "id": "6eD4Cy0Jeqah"
      }
    },
    {
      "cell_type": "code",
      "source": [
        "#11.  What is method overloading in Python?"
      ],
      "metadata": {
        "id": "iYbJrBTNe_3H"
      },
      "execution_count": null,
      "outputs": []
    },
    {
      "cell_type": "markdown",
      "source": [
        "Method overloading refers to defining multiple methods with the same name but different parameters within a class."
      ],
      "metadata": {
        "id": "vpQsRleyO9SM"
      }
    },
    {
      "cell_type": "code",
      "source": [
        "#12. What is method overriding in OOP?"
      ],
      "metadata": {
        "id": "O7DIdHgePIpB"
      },
      "execution_count": null,
      "outputs": []
    },
    {
      "cell_type": "markdown",
      "source": [
        "Method overriding is an OOP feature that allows a child class to provide its own implementation of a method that is already defined in its parent class."
      ],
      "metadata": {
        "id": "jUfbSTAJPM-S"
      }
    },
    {
      "cell_type": "code",
      "source": [
        "#13. What is a property decorator in Python?"
      ],
      "metadata": {
        "id": "j1MOIiQjPXNX"
      },
      "execution_count": null,
      "outputs": []
    },
    {
      "cell_type": "markdown",
      "source": [
        "The @property decorator is part of Python’s built-in property system and is commonly used to create getter, setter, and deleter methods in a Pythonic way."
      ],
      "metadata": {
        "id": "rfBAaRhpPbF-"
      }
    },
    {
      "cell_type": "code",
      "source": [
        "#14. Why is polymorphism important in OOP?"
      ],
      "metadata": {
        "id": "7UHLm0anP8-g"
      },
      "execution_count": null,
      "outputs": []
    },
    {
      "cell_type": "markdown",
      "source": [
        "Polymorphism is a core concept in Object-Oriented Programming (OOP) that allows objects of different classes to be treated as objects of a common superclass. It enables a single method or function to work with different types of data or different class implementations."
      ],
      "metadata": {
        "id": "BsJh2093QDKS"
      }
    },
    {
      "cell_type": "code",
      "source": [
        "#15. What is an abstract class in Python?"
      ],
      "metadata": {
        "id": "V4Q6WMw7QNUn"
      },
      "execution_count": null,
      "outputs": []
    },
    {
      "cell_type": "markdown",
      "source": [
        "An abstract class in Python is a class that cannot be instantiated and is designed to be inherited by other classes. It serves as a blueprint for other classes and is used to define common methods that must be implemented by its child classes."
      ],
      "metadata": {
        "id": "ZCgNacaIQUW_"
      }
    },
    {
      "cell_type": "code",
      "source": [
        "#16. What are the advantages of OOP?"
      ],
      "metadata": {
        "id": "9sQgk6fPQaCZ"
      },
      "execution_count": null,
      "outputs": []
    },
    {
      "cell_type": "markdown",
      "source": [
        "Object-Oriented Programming (OOP) offers several powerful benefits that improve the structure, maintainability, and scalability of your code. Here are the key advantages of OOP:\n",
        "\n",
        "*   Modularity\n",
        "*   Encapsulation\n",
        "*   Reusability\n",
        "*   Polymorphism.\n",
        "\n"
      ],
      "metadata": {
        "id": "6Yp6smGrQf26"
      }
    },
    {
      "cell_type": "code",
      "source": [
        "#17. What is the difference between a class variable and an instance variable?"
      ],
      "metadata": {
        "id": "59jhbQ-fQ-Ld"
      },
      "execution_count": null,
      "outputs": []
    },
    {
      "cell_type": "markdown",
      "source": [
        "**A class variable is:**\n",
        "\n",
        " Defined inside the class, but outside any method.\n",
        "\n",
        " Shared across all instances of the class.\n",
        "\n",
        " Modifying a class variable affects all objects that reference it.\n",
        "\n",
        " **An instance variable is:**\n",
        "\n",
        " Defined inside the __init__() method (or other instance methods) using self.\n",
        "\n",
        " Unique to each object (instance).\n",
        "\n",
        " Changes to an instance variable affect only that object."
      ],
      "metadata": {
        "id": "-YqcodYHRGhq"
      }
    },
    {
      "cell_type": "code",
      "source": [
        "#18. What is multiple inheritance in Python?"
      ],
      "metadata": {
        "id": "O6YanbPuRd1g"
      },
      "execution_count": null,
      "outputs": []
    },
    {
      "cell_type": "markdown",
      "source": [
        "Multiple inheritance is a feature in Python that allows a class to inherit from more than one parent class. This enables a child class to inherit attributes and methods from multiple base classes.\n",
        "\n"
      ],
      "metadata": {
        "id": "IvK8RzQZRiQL"
      }
    },
    {
      "cell_type": "code",
      "source": [
        "#19. Explain the purpose of ‘’__str__’ and ‘__repr__’ ‘ methods in Python."
      ],
      "metadata": {
        "id": "3eQM-ptERo2p"
      },
      "execution_count": null,
      "outputs": []
    },
    {
      "cell_type": "markdown",
      "source": [
        "In Python, both ______str__() and ______repr__() are special methods (also called dunder methods) used to define how objects are represented as strings. While they may seem similar, they serve different purposes."
      ],
      "metadata": {
        "id": "NaMZxv6VRst9"
      }
    },
    {
      "cell_type": "code",
      "source": [
        "#20.  What is the significance of the ‘super()’ function in Python?"
      ],
      "metadata": {
        "id": "QUCyyfACSVpN"
      },
      "execution_count": null,
      "outputs": []
    },
    {
      "cell_type": "markdown",
      "source": [
        "The super() function in Python is used to call a method from a parent (or superclass) within a child (or subclass). It’s particularly useful in inheritance scenarios, ensuring methods are called in the correct order, especially in complex hierarchies like multiple inheritance."
      ],
      "metadata": {
        "id": "EnnajnL3ScY5"
      }
    },
    {
      "cell_type": "code",
      "source": [
        "#21. What is the significance of the __del__ method in Python?"
      ],
      "metadata": {
        "id": "SCkmtFnWSkaN"
      },
      "execution_count": null,
      "outputs": []
    },
    {
      "cell_type": "markdown",
      "source": [
        "The ______del__() method in Python is known as the destructor method. It is called automatically when an object is about to be destroyed, typically when:\n",
        "\n",
        "1. The object goes out of scope.\n",
        "2. The object’s reference count reaches zero.\n",
        "3. The Python interpreter shuts down (in some cases)."
      ],
      "metadata": {
        "id": "nhFOY2vMSozd"
      }
    },
    {
      "cell_type": "code",
      "source": [
        "#22. What is the difference between @staticmethod and @classmethod in Python?"
      ],
      "metadata": {
        "id": "lNw0QSzES1MP"
      },
      "execution_count": null,
      "outputs": []
    },
    {
      "cell_type": "markdown",
      "source": [
        "**A @staticmethod is a method that:**\n",
        "\n",
        "1.  Belongs to the class rather than an instance.\n",
        "2.  Does not take self or cls as its first argument.\n",
        "3.  Acts like a regular function, but is logically grouped inside the class.\n",
        "4. Cannot modify the class state or instance state.\n",
        "\n",
        "**A @classmethod is a method that:**\n",
        "\n",
        "1.  Belongs to the class rather than an instance.\n",
        "2.  Takes cls as its first argument, which represents the class itself.\n",
        "3.  Can modify class state and access class variables.\n",
        "4.  Useful for implementing factory methods and alternative constructors."
      ],
      "metadata": {
        "id": "kFssNm8NS7Zq"
      }
    },
    {
      "cell_type": "code",
      "source": [
        "#23. How does polymorphism work in Python with inheritance?"
      ],
      "metadata": {
        "id": "ty_vyhbvTe3p"
      },
      "execution_count": null,
      "outputs": []
    },
    {
      "cell_type": "markdown",
      "source": [
        "Polymorphism in Python allows objects of different classes to be treated as objects of a common superclass. When combined with inheritance, it enables child classes to override methods from the parent class, ensuring different behaviors for the same method call.\n",
        "\n"
      ],
      "metadata": {
        "id": "-P2njwNbTwra"
      }
    },
    {
      "cell_type": "code",
      "source": [
        "#24. What is method chaining in Python OOP?"
      ],
      "metadata": {
        "id": "CYOHUJSpTxmB"
      },
      "execution_count": null,
      "outputs": []
    },
    {
      "cell_type": "markdown",
      "source": [
        "Method chaining is a technique in Python where multiple methods are called sequentially on the same object in a single line of code. This is achieved by having each method return the object itself (self), allowing subsequent method calls to be linked together.\n",
        "\n"
      ],
      "metadata": {
        "id": "SIAjjdn5T2wY"
      }
    },
    {
      "cell_type": "code",
      "source": [
        "#25. What is the purpose of the __call__ method in Python?"
      ],
      "metadata": {
        "id": "5qXw_NcjT98-"
      },
      "execution_count": null,
      "outputs": []
    },
    {
      "cell_type": "markdown",
      "source": [
        "The ______call__ method in Python is a special (dunder) method that allows an instance of a class to be called like a function. By defining __call__() in a class, you can create callable objects."
      ],
      "metadata": {
        "id": "3rP_GruwUDPw"
      }
    },
    {
      "cell_type": "code",
      "source": [
        "\n",
        "\n",
        "## Practical Questions\n",
        "\n"
      ],
      "metadata": {
        "id": "9jOPNFyhUIHb"
      },
      "execution_count": null,
      "outputs": []
    },
    {
      "cell_type": "code",
      "source": [
        "#1. Create a parent class Animal with a method speak() that prints a generic message. Create a child class Dog that overrides the speak() method to print \"Bark!\".\n",
        "\n",
        "class Animal:\n",
        "    def speak(self):\n",
        "        print(\"Animal makes a sound\")\n",
        "\n",
        "class Dog(Animal):\n",
        "    def speak(self):\n",
        "        print(\"Bark!\")\n",
        "\n",
        "generic_animal = Animal()\n",
        "dog = Dog()\n",
        "\n",
        "generic_animal.speak()\n",
        "dog.speak()\n",
        "\n"
      ],
      "metadata": {
        "colab": {
          "base_uri": "https://localhost:8080/"
        },
        "id": "vNqSgtmYUWLC",
        "outputId": "f99cf2ff-243a-4959-e5cf-3c50078426fd"
      },
      "execution_count": null,
      "outputs": [
        {
          "output_type": "stream",
          "name": "stdout",
          "text": [
            "Animal makes a sound\n",
            "Bark!\n"
          ]
        }
      ]
    },
    {
      "cell_type": "code",
      "source": [
        "#2.  Write a program to create an abstract class Shape with a method area(). Derive classes Circle and Rectangle from it and implement the area() method in both.\n",
        "\n",
        "from abc import ABC, abstractmethod\n",
        "\n",
        "# Abstract class\n",
        "class Shape(ABC):\n",
        "    @abstractmethod\n",
        "    def area(self):\n",
        "        pass\n",
        "\n",
        "# Circle class\n",
        "class Circle(Shape):\n",
        "    def __init__(self, radius):\n",
        "        self.radius = radius\n",
        "\n",
        "    def area(self):\n",
        "        return 3.14 * self.radius ** 2\n",
        "\n",
        "# Rectangle class\n",
        "class Rectangle(Shape):\n",
        "    def __init__(self, width, height):\n",
        "        self.width = width\n",
        "        self.height = height\n",
        "\n",
        "    def area(self):\n",
        "        return self.width * self.height\n",
        "\n",
        "# Creating objects\n",
        "circle = Circle(5)\n",
        "rectangle = Rectangle(4, 6)\n",
        "\n",
        "# Printing areas\n",
        "print(f\"Circle area: {circle.area()}\")\n",
        "print(f\"Rectangle area: {rectangle.area()}\")\n",
        "\n"
      ],
      "metadata": {
        "colab": {
          "base_uri": "https://localhost:8080/"
        },
        "id": "SOL_JqlUU3lK",
        "outputId": "c9f953c0-f101-485f-882f-89245cbda811"
      },
      "execution_count": null,
      "outputs": [
        {
          "output_type": "stream",
          "name": "stdout",
          "text": [
            "Circle area: 78.5\n",
            "Rectangle area: 24\n"
          ]
        }
      ]
    },
    {
      "cell_type": "code",
      "source": [
        "#3.  Implement a multi-level inheritance scenario where a class Vehicle has an attribute type. Derive a class Car and further derive a class ElectricCar that adds a battery attribute.\n",
        "\n",
        "# Parent class\n",
        "class Vehicle:\n",
        "    def __init__(self, vehicle_type):\n",
        "        self.vehicle_type = vehicle_type\n",
        "\n",
        "    def show_type(self):\n",
        "        print(f\"Vehicle type: {self.vehicle_type}\")\n",
        "\n",
        "# Derived class\n",
        "class Car(Vehicle):\n",
        "    def __init__(self, vehicle_type, brand):\n",
        "        super().__init__(vehicle_type)\n",
        "        self.brand = brand\n",
        "\n",
        "    def show_brand(self):\n",
        "        print(f\"Car brand: {self.brand}\")\n",
        "\n",
        "# Further derived class\n",
        "class ElectricCar(Car):\n",
        "    def __init__(self, vehicle_type, brand, battery_capacity):\n",
        "        super().__init__(vehicle_type, brand)\n",
        "        self.battery_capacity = battery_capacity\n",
        "\n",
        "    def show_battery(self):\n",
        "        print(f\"Battery capacity: {self.battery_capacity} kWh\")\n",
        "\n",
        "# Creating an object of ElectricCar\n",
        "ecar = ElectricCar(\"Electric\", \"Tesla\", 75)\n",
        "\n",
        "# Displaying details\n",
        "ecar.show_type()\n",
        "ecar.show_brand()\n",
        "ecar.show_battery()\n",
        "\n"
      ],
      "metadata": {
        "colab": {
          "base_uri": "https://localhost:8080/"
        },
        "id": "s7b4MBijVgF-",
        "outputId": "6d133132-9726-48b6-b873-5bbd12a72113"
      },
      "execution_count": null,
      "outputs": [
        {
          "output_type": "stream",
          "name": "stdout",
          "text": [
            "Vehicle type: Electric\n",
            "Car brand: Tesla\n",
            "Battery capacity: 75 kWh\n"
          ]
        }
      ]
    },
    {
      "cell_type": "code",
      "source": [
        "#4.  Demonstrate polymorphism by creating a base class Bird with a method fly(). Create two derived classes Sparrow and Penguin that override the fly() method.\n",
        "# Base class\n",
        "class Bird:\n",
        "    def fly(self):\n",
        "        print(\"Some birds can fly\")\n",
        "\n",
        "# Derived class - Sparrow\n",
        "class Sparrow(Bird):\n",
        "    def fly(self):\n",
        "        print(\"Sparrow can fly high\")\n",
        "\n",
        "# Derived class - Penguin\n",
        "class Penguin(Bird):\n",
        "    def fly(self):\n",
        "        print(\"Penguins cannot fly\")\n",
        "\n",
        "# Polymorphic behavior\n",
        "def bird_fly_test(bird):\n",
        "    bird.fly()\n",
        "\n",
        "# Creating objects\n",
        "sparrow = Sparrow()\n",
        "penguin = Penguin()\n",
        "\n",
        "# Testing polymorphism\n",
        "bird_fly_test(sparrow)\n",
        "bird_fly_test(penguin)\n",
        "\n",
        "\n"
      ],
      "metadata": {
        "colab": {
          "base_uri": "https://localhost:8080/"
        },
        "id": "a-WqMzw7V5CX",
        "outputId": "1b38c2bb-ce47-4ad7-a0f8-91bda8ee70dd"
      },
      "execution_count": null,
      "outputs": [
        {
          "output_type": "stream",
          "name": "stdout",
          "text": [
            "Sparrow can fly high\n",
            "Penguins cannot fly\n"
          ]
        }
      ]
    },
    {
      "cell_type": "code",
      "source": [
        "#5. Write a program to demonstrate encapsulation by creating a class BankAccount with private attributes balance and methods to deposit, withdraw, and check balance.\n",
        "\n",
        "class BankAccount:\n",
        "    def __init__(self, initial_balance=0):\n",
        "        self.__balance = initial_balance  # Private attribute\n",
        "\n",
        "    # Method to deposit money\n",
        "    def deposit(self, amount):\n",
        "        if amount > 0:\n",
        "            self.__balance += amount\n",
        "            print(f\"Deposited ₹{amount}. New balance: ₹{self.__balance}\")\n",
        "        else:\n",
        "            print(\"Invalid deposit amount\")\n",
        "\n",
        "    # Method to withdraw money\n",
        "    def withdraw(self, amount):\n",
        "        if 0 < amount <= self.__balance:\n",
        "            self.__balance -= amount\n",
        "            print(f\"Withdrew ₹{amount}. Remaining balance: ₹{self.__balance}\")\n",
        "        else:\n",
        "            print(\"Insufficient funds or invalid withdrawal amount\")\n",
        "\n",
        "    # Method to check balance\n",
        "    def check_balance(self):\n",
        "        print(f\"Current balance: ₹{self.__balance}\")\n",
        "\n",
        "# Creating a BankAccount object\n",
        "account = BankAccount(5000)\n",
        "\n",
        "# Performing transactions\n",
        "account.deposit(2000)\n",
        "account.withdraw(1500)\n",
        "account.check_balance()\n",
        "\n"
      ],
      "metadata": {
        "colab": {
          "base_uri": "https://localhost:8080/"
        },
        "id": "Uu-U4TMXWScX",
        "outputId": "ac8bce22-0a19-47d5-f997-8f9d9a4a2d99"
      },
      "execution_count": null,
      "outputs": [
        {
          "output_type": "stream",
          "name": "stdout",
          "text": [
            "Deposited ₹2000. New balance: ₹7000\n",
            "Withdrew ₹1500. Remaining balance: ₹5500\n",
            "Current balance: ₹5500\n"
          ]
        }
      ]
    },
    {
      "cell_type": "code",
      "source": [
        "#6.  Demonstrate runtime polymorphism using a method play() in a base class Instrument. Derive classes Guitar and Piano that implement their own version of play().\n",
        "\n",
        "# Base class\n",
        "class Instrument:\n",
        "    def play(self):\n",
        "        print(\"Instrument is playing a sound\")\n",
        "\n",
        "# Derived class - Guitar\n",
        "class Guitar(Instrument):\n",
        "    def play(self):\n",
        "        print(\"Guitar is strumming a melody\")\n",
        "\n",
        "# Derived class - Piano\n",
        "class Piano(Instrument):\n",
        "    def play(self):\n",
        "        print(\"Piano is playing a soothing tune\")\n",
        "\n",
        "# Polymorphic behavior\n",
        "def perform(instrument):\n",
        "    instrument.play()\n",
        "\n",
        "# Creating objects\n",
        "guitar = Guitar()\n",
        "piano = Piano()\n",
        "\n",
        "# Demonstrating runtime polymorphism\n",
        "perform(guitar)\n",
        "perform(piano)\n",
        "\n"
      ],
      "metadata": {
        "colab": {
          "base_uri": "https://localhost:8080/"
        },
        "id": "uIxqitrXW9Z-",
        "outputId": "c9c952c9-f4c7-4b89-d267-a9dc9bd28fa1"
      },
      "execution_count": null,
      "outputs": [
        {
          "output_type": "stream",
          "name": "stdout",
          "text": [
            "Guitar is strumming a melody\n",
            "Piano is playing a soothing tune\n"
          ]
        }
      ]
    },
    {
      "cell_type": "code",
      "source": [
        "#7. Create a class MathOperations with a class method add_numbers() to add two numbers and a static method subtract_numbers() to subtract two numbers.\n",
        "\n",
        "class MathOperations:\n",
        "    # Class method to add two numbers\n",
        "    @classmethod\n",
        "    def add_numbers(cls, a, b):\n",
        "        return a + b\n",
        "\n",
        "    # Static method to subtract two numbers\n",
        "    @staticmethod\n",
        "    def subtract_numbers(a, b):\n",
        "        return a - b\n",
        "\n",
        "# Using class method\n",
        "print(f\"Addition: {MathOperations.add_numbers(5, 3)}\")\n",
        "\n",
        "# Using static method\n",
        "print(f\"Subtraction: {MathOperations.subtract_numbers(10, 4)}\")\n",
        "\n"
      ],
      "metadata": {
        "colab": {
          "base_uri": "https://localhost:8080/"
        },
        "id": "fuNjgLVkXhz6",
        "outputId": "5cefa63a-c501-4ca3-e84e-22825f14a5b5"
      },
      "execution_count": null,
      "outputs": [
        {
          "output_type": "stream",
          "name": "stdout",
          "text": [
            "Addition: 8\n",
            "Subtraction: 6\n"
          ]
        }
      ]
    },
    {
      "cell_type": "code",
      "source": [
        "#8.  Implement a class Person with a class method to count the total number of persons created.\n",
        "\n",
        "class Person:\n",
        "    total_persons = 0  # Class variable to track total persons\n",
        "\n",
        "    def __init__(self, name):\n",
        "        self.name = name\n",
        "        Person.total_persons += 1\n",
        "\n",
        "    @classmethod\n",
        "    def get_total_persons(cls):\n",
        "        return cls.total_persons\n",
        "\n",
        "# Creating instances of Person\n",
        "p1 = Person(\"Alice\")\n",
        "p2 = Person(\"Bob\")\n",
        "p3 = Person(\"Charlie\")\n",
        "\n",
        "# Displaying the total number of persons created\n",
        "print(f\"Total persons created: {Person.get_total_persons()}\")\n"
      ],
      "metadata": {
        "colab": {
          "base_uri": "https://localhost:8080/"
        },
        "id": "JFuLX5f0XzTX",
        "outputId": "66066ba9-49f1-4d36-9363-3dd3ccd0411c"
      },
      "execution_count": null,
      "outputs": [
        {
          "output_type": "stream",
          "name": "stdout",
          "text": [
            "Total persons created: 3\n"
          ]
        }
      ]
    },
    {
      "cell_type": "code",
      "source": [
        "#9.  Write a class Fraction with attributes numerator and denominator. Override the str method to display the fraction as \"numerator/denominator\".\n",
        "\n",
        "class Fraction:\n",
        "    def __init__(self, numerator, denominator):\n",
        "        self.numerator = numerator\n",
        "        self.denominator = denominator\n",
        "\n",
        "    def __str__(self):\n",
        "        return f\"{self.numerator}/{self.denominator}\"\n",
        "\n",
        "# Creating instances of Fraction\n",
        "frac1 = Fraction(3, 4)\n",
        "frac2 = Fraction(5, 8)\n",
        "\n",
        "# Displaying the fractions\n",
        "print(frac1)\n",
        "print(frac2)\n",
        "\n"
      ],
      "metadata": {
        "colab": {
          "base_uri": "https://localhost:8080/"
        },
        "id": "S8d2Wzc6YA9n",
        "outputId": "2032b779-32d7-4158-ee49-f165e4f81428"
      },
      "execution_count": null,
      "outputs": [
        {
          "output_type": "stream",
          "name": "stdout",
          "text": [
            "3/4\n",
            "5/8\n"
          ]
        }
      ]
    },
    {
      "cell_type": "code",
      "source": [
        "#10.  Demonstrate operator overloading by creating a class Vector and overriding the add method to add two vectors.\n",
        "\n",
        "class Vector:\n",
        "    def __init__(self, x, y):\n",
        "        self.x = x\n",
        "        self.y = y\n",
        "\n",
        "    # Overloading the '+' operator\n",
        "    def __add__(self, other):\n",
        "        return Vector(self.x + other.x, self.y + other.y)\n",
        "\n",
        "    def __str__(self):\n",
        "        return f\"Vector({self.x}, {self.y})\"\n",
        "\n",
        "# Creating Vector instances\n",
        "v1 = Vector(2, 3)\n",
        "v2 = Vector(4, 5)\n",
        "\n",
        "# Adding vectors using overloaded '+' operator\n",
        "result = v1 + v2\n",
        "print(result)\n",
        "\n"
      ],
      "metadata": {
        "colab": {
          "base_uri": "https://localhost:8080/"
        },
        "id": "6PViI91GYRsR",
        "outputId": "598b7740-cbc8-48c7-ac11-31c807fc0949"
      },
      "execution_count": null,
      "outputs": [
        {
          "output_type": "stream",
          "name": "stdout",
          "text": [
            "Vector(6, 8)\n"
          ]
        }
      ]
    },
    {
      "cell_type": "code",
      "source": [
        "#11. Create a class Person with attributes name and age. Add a method greet() that prints \"Hello, my name is {name} and I am {age} years old.\"\n",
        "\n",
        "class Person:\n",
        "    def __init__(self, name, age):\n",
        "        self.name = name\n",
        "        self.age = age\n",
        "\n",
        "    def greet(self):\n",
        "        print(f\"Hello, my name is {self.name} and I am {self.age} years old.\")\n",
        "\n",
        "# Creating instances of Person\n",
        "p1 = Person(\"Alice\", 30)\n",
        "p2 = Person(\"Bob\", 25)\n",
        "\n",
        "# Calling the greet method\n",
        "p1.greet()\n",
        "p2.greet()\n",
        "\n"
      ],
      "metadata": {
        "colab": {
          "base_uri": "https://localhost:8080/"
        },
        "id": "sSGEbhN7Yc7u",
        "outputId": "90343f12-a33e-4be5-915e-4976002edd3a"
      },
      "execution_count": null,
      "outputs": [
        {
          "output_type": "stream",
          "name": "stdout",
          "text": [
            "Hello, my name is Alice and I am 30 years old.\n",
            "Hello, my name is Bob and I am 25 years old.\n"
          ]
        }
      ]
    },
    {
      "cell_type": "code",
      "source": [
        "#12.  Implement a class Student with attributes name and grades. Create a method average_grade() to compute the average of the grades.\n",
        "\n",
        "class Student:\n",
        "    def __init__(self, name, grades):\n",
        "        self.name = name\n",
        "        self.grades = grades\n",
        "\n",
        "    def average_grade(self):\n",
        "        if self.grades:\n",
        "            return sum(self.grades) / len(self.grades)\n",
        "        return 0\n",
        "\n",
        "# Creating instances of Student\n",
        "s1 = Student(\"Alice\", [85, 90, 78])\n",
        "s2 = Student(\"Bob\", [72, 88, 91])\n",
        "\n",
        "# Displaying average grades\n",
        "print(f\"{s1.name}'s average grade: {s1.average_grade():.2f}\")\n",
        "print(f\"{s2.name}'s average grade: {s2.average_grade():.2f}\")\n",
        "\n"
      ],
      "metadata": {
        "colab": {
          "base_uri": "https://localhost:8080/"
        },
        "id": "IxHZDSFpYr_G",
        "outputId": "ccf3bb8c-a17f-46e7-8147-65ed32a8b3e9"
      },
      "execution_count": null,
      "outputs": [
        {
          "output_type": "stream",
          "name": "stdout",
          "text": [
            "Alice's average grade: 84.33\n",
            "Bob's average grade: 83.67\n"
          ]
        }
      ]
    },
    {
      "cell_type": "code",
      "source": [
        "#13. Create a class Rectangle with methods set_dimensions() to set the dimensions and area() to calculate the area.\n",
        "\n",
        "class Rectangle:\n",
        "    def __init__(self):\n",
        "        self.width = 0\n",
        "        self.height = 0\n",
        "\n",
        "    def set_dimensions(self, width, height):\n",
        "        self.width = width\n",
        "        self.height = height\n",
        "\n",
        "    def area(self):\n",
        "        return self.width * self.height\n",
        "\n",
        "# Creating an instance of Rectangle\n",
        "rect = Rectangle()\n",
        "rect.set_dimensions(5, 10)\n",
        "\n",
        "# Displaying the area\n",
        "print(f\"Area of the rectangle: {rect.area()}\")\n",
        "\n"
      ],
      "metadata": {
        "colab": {
          "base_uri": "https://localhost:8080/"
        },
        "id": "qET640lLZDeH",
        "outputId": "4a5bfcf5-46db-41db-a43d-0537d28d5ec0"
      },
      "execution_count": null,
      "outputs": [
        {
          "output_type": "stream",
          "name": "stdout",
          "text": [
            "Area of the rectangle: 50\n"
          ]
        }
      ]
    },
    {
      "cell_type": "code",
      "source": [
        "#14. Create a class Employee with a method calculate_salary() that computes the salary based on hours worked and hourly rate. Create a derived class Manager that adds a bonus to the salary.\n",
        "\n",
        "class Employee:\n",
        "    def __init__(self, name, hourly_rate):\n",
        "        self.name = name\n",
        "        self.hourly_rate = hourly_rate\n",
        "\n",
        "    def calculate_salary(self, hours_worked):\n",
        "        return self.hourly_rate * hours_worked\n",
        "\n",
        "# Derived class - Manager\n",
        "class Manager(Employee):\n",
        "    def __init__(self, name, hourly_rate, bonus):\n",
        "        super().__init__(name, hourly_rate)\n",
        "        self.bonus = bonus\n",
        "\n",
        "    def calculate_salary(self, hours_worked):\n",
        "        base_salary = super().calculate_salary(hours_worked)\n",
        "        return base_salary + self.bonus\n",
        "\n",
        "# Creating instances\n",
        "employee = Employee(\"Alice\", 20)\n",
        "manager = Manager(\"Bob\", 30, 500)\n",
        "\n",
        "# Displaying salaries\n",
        "print(f\"{employee.name}'s salary: ₹{employee.calculate_salary(40)}\")\n",
        "print(f\"{manager.name}'s salary: ₹{manager.calculate_salary(40)}\")\n",
        "\n"
      ],
      "metadata": {
        "colab": {
          "base_uri": "https://localhost:8080/"
        },
        "id": "veCRUo_cZVZW",
        "outputId": "14dca2bd-2ba0-46a2-babd-a6bf85e0695f"
      },
      "execution_count": null,
      "outputs": [
        {
          "output_type": "stream",
          "name": "stdout",
          "text": [
            "Alice's salary: ₹800\n",
            "Bob's salary: ₹1700\n"
          ]
        }
      ]
    },
    {
      "cell_type": "code",
      "source": [
        "#15.  Create a class Product with attributes name, price, and quantity. Implement a method total_price() that calculates the total price of the product.\n",
        "\n",
        "class Product:\n",
        "    def __init__(self, name, price, quantity):\n",
        "        self.name = name\n",
        "        self.price = price\n",
        "        self.quantity = quantity\n",
        "\n",
        "    def total_price(self):\n",
        "        return self.price * self.quantity\n",
        "\n",
        "# Creating instances of Product\n",
        "product1 = Product(\"Laptop\", 50000, 2)\n",
        "product2 = Product(\"Headphones\", 3000, 5)\n",
        "\n",
        "# Displaying total prices\n",
        "print(f\"Total price of {product1.name}: ₹{product1.total_price()}\")\n",
        "print(f\"Total price of {product2.name}: ₹{product2.total_price()}\")\n",
        "\n"
      ],
      "metadata": {
        "colab": {
          "base_uri": "https://localhost:8080/"
        },
        "id": "UAMFXeRLZpEt",
        "outputId": "441d11fb-bde7-4be1-cce4-8175e6645e67"
      },
      "execution_count": null,
      "outputs": [
        {
          "output_type": "stream",
          "name": "stdout",
          "text": [
            "Total price of Laptop: ₹100000\n",
            "Total price of Headphones: ₹15000\n"
          ]
        }
      ]
    },
    {
      "cell_type": "code",
      "source": [
        "#16.  Create a class Animal with an abstract method sound(). Create two derived classes Cow and Sheep that implement the sound() method.\n",
        "\n",
        "\n",
        "from abc import ABC, abstractmethod\n",
        "\n",
        "# Abstract class\n",
        "class Animal(ABC):\n",
        "    @abstractmethod\n",
        "    def sound(self):\n",
        "        pass\n",
        "\n",
        "# Derived class - Cow\n",
        "class Cow(Animal):\n",
        "    def sound(self):\n",
        "        print(\"Cow says Moo\")\n",
        "\n",
        "# Derived class - Sheep\n",
        "class Sheep(Animal):\n",
        "    def sound(self):\n",
        "        print(\"Sheep says Baa\")\n",
        "\n",
        "# Creating objects\n",
        "cow = Cow()\n",
        "sheep = Sheep()\n",
        "\n",
        "# Calling the sound() method\n",
        "cow.sound()\n",
        "sheep.sound()\n"
      ],
      "metadata": {
        "colab": {
          "base_uri": "https://localhost:8080/"
        },
        "id": "O2asFQYYZ15A",
        "outputId": "d0d9c3e9-d4bd-4c6f-8b7c-08e7e67e27ee"
      },
      "execution_count": null,
      "outputs": [
        {
          "output_type": "stream",
          "name": "stdout",
          "text": [
            "Cow says Moo\n",
            "Sheep says Baa\n"
          ]
        }
      ]
    },
    {
      "cell_type": "code",
      "source": [
        "#17.  Create a class Book with attributes title, author, and year_published. Add a method get_book_info() that returns a formatted string with the book's details\n",
        "\n",
        "class Book:\n",
        "    def __init__(self, title, author, year_published):\n",
        "        self.title = title\n",
        "        self.author = author\n",
        "        self.year_published = year_published\n",
        "\n",
        "    def get_book_info(self):\n",
        "        return f\"'{self.title}' by {self.author}, published in {self.year_published}.\"\n",
        "\n",
        "# Creating instances of Book\n",
        "book1 = Book(\"1984\", \"George Orwell\", 1949)\n",
        "book2 = Book(\"To Kill a Mockingbird\", \"Harper Lee\", 1960)\n",
        "\n",
        "# Displaying book information\n",
        "print(book1.get_book_info())\n",
        "print(book2.get_book_info())\n",
        "\n"
      ],
      "metadata": {
        "colab": {
          "base_uri": "https://localhost:8080/"
        },
        "id": "lex6ug1saE77",
        "outputId": "1a3e0883-226c-460c-e97d-2d8cf8033bac"
      },
      "execution_count": null,
      "outputs": [
        {
          "output_type": "stream",
          "name": "stdout",
          "text": [
            "'1984' by George Orwell, published in 1949.\n",
            "'To Kill a Mockingbird' by Harper Lee, published in 1960.\n"
          ]
        }
      ]
    },
    {
      "cell_type": "code",
      "source": [
        "#18. Create a class House with attributes address and price. Create a derived class Mansion that adds an attribute number_of_rooms.\n",
        "\n",
        "class House:\n",
        "    def __init__(self, address, price):\n",
        "        self.address = address\n",
        "        self.price = price\n",
        "\n",
        "    def get_info(self):\n",
        "        return f\"Address: {self.address}, Price: ₹{self.price}\"\n",
        "\n",
        "# Derived class - Mansion\n",
        "class Mansion(House):\n",
        "    def __init__(self, address, price, number_of_rooms):\n",
        "        super().__init__(address, price)\n",
        "        self.number_of_rooms = number_of_rooms\n",
        "\n",
        "    def get_info(self):\n",
        "        return f\"Address: {self.address}, Price: ₹{self.price}, Rooms: {self.number_of_rooms}\"\n",
        "\n",
        "# Creating instances\n",
        "house = House(\"123 Maple Street\", 5000000)\n",
        "mansion = Mansion(\"456 Oak Avenue\", 15000000, 10)\n",
        "\n",
        "# Displaying information\n",
        "print(house.get_info())\n",
        "print(mansion.get_info())\n",
        "\n"
      ],
      "metadata": {
        "colab": {
          "base_uri": "https://localhost:8080/"
        },
        "id": "ee7MJKbNaSi9",
        "outputId": "59fd50e5-5573-4482-bef1-1cb877039eb3"
      },
      "execution_count": null,
      "outputs": [
        {
          "output_type": "stream",
          "name": "stdout",
          "text": [
            "Address: 123 Maple Street, Price: ₹5000000\n",
            "Address: 456 Oak Avenue, Price: ₹15000000, Rooms: 10\n"
          ]
        }
      ]
    },
    {
      "cell_type": "code",
      "source": [],
      "metadata": {
        "id": "esqxkQ-4ahIC"
      },
      "execution_count": null,
      "outputs": []
    }
  ]
}